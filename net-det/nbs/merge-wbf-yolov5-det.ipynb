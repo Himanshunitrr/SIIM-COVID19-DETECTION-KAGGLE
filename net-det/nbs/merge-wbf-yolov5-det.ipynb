{
 "cells": [
  {
   "cell_type": "code",
   "execution_count": 1,
   "id": "legendary-thought",
   "metadata": {
    "execution": {
     "iopub.execute_input": "2021-07-27T20:42:10.820238Z",
     "iopub.status.busy": "2021-07-27T20:42:10.817136Z",
     "iopub.status.idle": "2021-07-27T20:42:35.230577Z",
     "shell.execute_reply": "2021-07-27T20:42:35.229840Z"
    },
    "papermill": {
     "duration": 24.438347,
     "end_time": "2021-07-27T20:42:35.230808",
     "exception": false,
     "start_time": "2021-07-27T20:42:10.792461",
     "status": "completed"
    },
    "tags": []
   },
   "outputs": [
    {
     "name": "stdout",
     "output_type": "stream",
     "text": [
      "Processing /kaggle/input/ensemble-boxes-104/ensemble_boxes-1.0.4\r\n",
      "Building wheels for collected packages: ensemble-boxes\r\n",
      "  Building wheel for ensemble-boxes (setup.py) ... \u001b[?25l-\b \b\\\b \bdone\r\n",
      "\u001b[?25h  Created wheel for ensemble-boxes: filename=ensemble_boxes-1.0.4-py3-none-any.whl size=14078 sha256=0888bcf60705e681fab67596305b4e205a622e5416e209923cb7712d916c3da5\r\n",
      "  Stored in directory: /root/.cache/pip/wheels/66/11/27/bd684df8a75ad0e720fdc77d199e5876063925350905a64205\r\n",
      "Successfully built ensemble-boxes\r\n",
      "Installing collected packages: ensemble-boxes\r\n",
      "Successfully installed ensemble-boxes-1.0.4\r\n"
     ]
    }
   ],
   "source": [
    "!pip install --no-deps ../input/ensemble-boxes-104/ensemble_boxes-1.0.4"
   ]
  },
  {
   "cell_type": "code",
   "execution_count": 2,
   "id": "resident-hormone",
   "metadata": {
    "execution": {
     "iopub.execute_input": "2021-07-27T20:42:35.264314Z",
     "iopub.status.busy": "2021-07-27T20:42:35.263660Z",
     "iopub.status.idle": "2021-07-27T20:42:38.794406Z",
     "shell.execute_reply": "2021-07-27T20:42:38.793679Z"
    },
    "papermill": {
     "duration": 3.549463,
     "end_time": "2021-07-27T20:42:38.794582",
     "exception": false,
     "start_time": "2021-07-27T20:42:35.245119",
     "status": "completed"
    },
    "tags": []
   },
   "outputs": [],
   "source": [
    "from tqdm.auto import tqdm\n",
    "from fastai.vision.all import *\n",
    "from ensemble_boxes import *"
   ]
  },
  {
   "cell_type": "code",
   "execution_count": 3,
   "id": "developed-combination",
   "metadata": {
    "execution": {
     "iopub.execute_input": "2021-07-27T20:42:38.827575Z",
     "iopub.status.busy": "2021-07-27T20:42:38.826886Z",
     "iopub.status.idle": "2021-07-27T20:42:38.830454Z",
     "shell.execute_reply": "2021-07-27T20:42:38.831013Z",
     "shell.execute_reply.started": "2021-07-26T19:36:07.084843Z"
    },
    "papermill": {
     "duration": 0.02323,
     "end_time": "2021-07-27T20:42:38.831205",
     "exception": false,
     "start_time": "2021-07-27T20:42:38.807975",
     "status": "completed"
    },
    "tags": []
   },
   "outputs": [
    {
     "name": "stdout",
     "output_type": "stream",
     "text": [
      "# models 4\n",
      "['../input/siim-covid-19-effdet-infer-merge-best-folds/effdet3_sub_iou@0.6.csv', '../input/efnd5-sub-stage1-v1/effdet5_sub_iou_0.6.csv', '../input/new-yolov5-infer-thres-0-6-no-tta/yolo_v5_bench_no_tta.csv', '../input/yolo-mid-score/yolo_v5_bench_no_tta.csv']\n"
     ]
    }
   ],
   "source": [
    "test_files = [\n",
    "    '../input/siim-covid-19-effdet-infer-merge-best-folds/effdet3_sub_iou@0.6.csv',\n",
    "    '../input/efnd5-sub-stage1-v1/effdet5_sub_iou_0.6.csv',\n",
    "    '../input/new-yolov5-infer-thres-0-6-no-tta/yolo_v5_bench_no_tta.csv',\n",
    "  #  '../input/siim-covid-19-yolov5-infer-no-tta-b4a9fa/yolo_v5_bench_no_tta.csv',\n",
    "    '../input/yolo-mid-score/yolo_v5_bench_no_tta.csv'\n",
    " #   '../input/siim-covid-19-effdet-infer-merge-best-fold-f4eca0/effdet3_sub_iou@0.6.csv',\n",
    "    #'../input/siim-effnetv2-l-cascadercnn-mmdetection-infer/sub_cascade_rcnn_public.csv'\n",
    "\n",
    "]\n",
    "print('# models', len(test_files))\n",
    "print(test_files)"
   ]
  },
  {
   "cell_type": "code",
   "execution_count": null,
   "id": "spread-champion",
   "metadata": {
    "papermill": {
     "duration": 0.013251,
     "end_time": "2021-07-27T20:42:38.857898",
     "exception": false,
     "start_time": "2021-07-27T20:42:38.844647",
     "status": "completed"
    },
    "tags": []
   },
   "outputs": [],
   "source": []
  },
  {
   "cell_type": "code",
   "execution_count": 4,
   "id": "intensive-illustration",
   "metadata": {
    "execution": {
     "iopub.execute_input": "2021-07-27T20:42:38.895751Z",
     "iopub.status.busy": "2021-07-27T20:42:38.895102Z",
     "iopub.status.idle": "2021-07-27T20:42:42.866605Z",
     "shell.execute_reply": "2021-07-27T20:42:42.867149Z",
     "shell.execute_reply.started": "2021-07-26T19:36:07.092874Z"
    },
    "papermill": {
     "duration": 3.995974,
     "end_time": "2021-07-27T20:42:42.867352",
     "exception": false,
     "start_time": "2021-07-27T20:42:38.871378",
     "status": "completed"
    },
    "tags": []
   },
   "outputs": [],
   "source": [
    "pred_locations = {}\n",
    "\n",
    "for model_index in range(len(test_files)):\n",
    "    # load table\n",
    "    with open(test_files[model_index], mode='r') as infile:\n",
    "        # open reader\n",
    "        reader = csv.reader(infile)\n",
    "        # skip header\n",
    "        next(reader, None)\n",
    "        # loop through rows\n",
    "        for rows in reader:\n",
    "            # retrieve information\n",
    "            filename = rows[0]\n",
    "            # print(rows[0])\n",
    "            parts = rows[1].split()\n",
    "            # print(parts)\n",
    "            assert len(parts) % 6 == 0\n",
    "            locations = []\n",
    "            for ind in range(len(parts) // 6):\n",
    "                #label = int(parts[ind * 6])\n",
    "                label = parts[ind * 6]\n",
    "                label = 1 if label == 'opacity' else 0\n",
    "                score = float(parts[ind * 6 + 1])\n",
    "                location = int(float(parts[ind * 6 + 2])), int(float(parts[ind * 6 + 3])), \\\n",
    "                           int(float(parts[ind * 6 + 4])), int(float(parts[ind * 6 + 5]))\n",
    "                if score > 0 and label < 14:\n",
    "                    locations.append((label, score, location))\n",
    "            if filename in pred_locations:\n",
    "                pred_locations[filename].append(locations)\n",
    "            else:\n",
    "                pred_locations[filename] = [locations]"
   ]
  },
  {
   "cell_type": "code",
   "execution_count": 5,
   "id": "modern-patrick",
   "metadata": {
    "execution": {
     "iopub.execute_input": "2021-07-27T20:42:42.900516Z",
     "iopub.status.busy": "2021-07-27T20:42:42.899907Z",
     "iopub.status.idle": "2021-07-27T20:42:42.903053Z",
     "shell.execute_reply": "2021-07-27T20:42:42.902372Z",
     "shell.execute_reply.started": "2021-07-26T19:36:09.503727Z"
    },
    "papermill": {
     "duration": 0.022092,
     "end_time": "2021-07-27T20:42:42.903202",
     "exception": false,
     "start_time": "2021-07-27T20:42:42.881110",
     "status": "completed"
    },
    "tags": []
   },
   "outputs": [],
   "source": [
    "test_filenames = [*pred_locations]\n",
    "test_filenames.sort()"
   ]
  },
  {
   "cell_type": "code",
   "execution_count": null,
   "id": "brilliant-dating",
   "metadata": {
    "papermill": {
     "duration": 0.013472,
     "end_time": "2021-07-27T20:42:42.930462",
     "exception": false,
     "start_time": "2021-07-27T20:42:42.916990",
     "status": "completed"
    },
    "tags": []
   },
   "outputs": [],
   "source": []
  },
  {
   "cell_type": "code",
   "execution_count": 6,
   "id": "ongoing-preliminary",
   "metadata": {
    "execution": {
     "iopub.execute_input": "2021-07-27T20:42:42.972234Z",
     "iopub.status.busy": "2021-07-27T20:42:42.966884Z",
     "iopub.status.idle": "2021-07-27T20:42:42.976535Z",
     "shell.execute_reply": "2021-07-27T20:42:42.975879Z",
     "shell.execute_reply.started": "2021-07-26T19:36:09.511718Z"
    },
    "papermill": {
     "duration": 0.032339,
     "end_time": "2021-07-27T20:42:42.976685",
     "exception": false,
     "start_time": "2021-07-27T20:42:42.944346",
     "status": "completed"
    },
    "tags": []
   },
   "outputs": [],
   "source": [
    "def merge_boxes_from_models(intersection_thr):\n",
    "    n_images = len(test_filenames)\n",
    "    n_variants = len(test_files)\n",
    "\n",
    "    result_boxes = []\n",
    "    result_scores = []\n",
    "    result_labels = []\n",
    "    for ii in tqdm(range(n_images), dynamic_ncols=True):\n",
    "        image_id = test_filenames[ii]\n",
    "        pred_variants = pred_locations[image_id]\n",
    "        assert len(pred_variants) == n_variants\n",
    "\n",
    "        pred_boxes = []\n",
    "        pred_scores = []\n",
    "        pred_labels = []\n",
    "        max_value = 10000\n",
    "        for vi in range(n_variants):\n",
    "            if len(pred_variants[vi]) > 0:\n",
    "                cur_pred_labels, cur_pred_scores, cur_pred_boxes = list(zip(*pred_variants[vi]))\n",
    "            else:\n",
    "                cur_pred_labels = []\n",
    "                cur_pred_scores = []\n",
    "                cur_pred_boxes = []\n",
    "            cur_pred_boxes = np.array(cur_pred_boxes, copy=False)\n",
    "            cur_pred_scores = np.array(cur_pred_scores, copy=False)\n",
    "            cur_pred_labels = np.array(cur_pred_labels, copy=False)\n",
    "\n",
    "            # WBF expects the coordinates in 0-1 range.\n",
    "            cur_pred_boxes = cur_pred_boxes / max_value\n",
    "\n",
    "            pred_boxes.append(cur_pred_boxes)\n",
    "            pred_scores.append(cur_pred_scores)\n",
    "            pred_labels.append(cur_pred_labels)\n",
    "\n",
    "        # Calculate WBF\n",
    "        pred_boxes, pred_scores, pred_labels = weighted_boxes_fusion(\n",
    "            pred_boxes,\n",
    "            pred_scores,\n",
    "            pred_labels,\n",
    "            #weights=[0.25,0.3,0.25,0.2],\n",
    "            conf_type = 'avg',\n",
    "\n",
    "\n",
    "            iou_thr=intersection_thr,\n",
    "            skip_box_thr=0.00002,\n",
    "            allows_overflow=True\n",
    "        )\n",
    "        pred_boxes = np.round(pred_boxes * max_value).astype(int)\n",
    "\n",
    "        assert len(pred_boxes) == len(pred_scores)\n",
    "        assert len(pred_boxes) == len(pred_scores)\n",
    "        assert len(pred_boxes) == len(pred_labels)\n",
    "        result_boxes.append(pred_boxes)\n",
    "        result_scores.append(pred_scores)\n",
    "        result_labels.append(pred_labels)\n",
    "\n",
    "    return result_boxes, result_scores, result_labels"
   ]
  },
  {
   "cell_type": "code",
   "execution_count": 7,
   "id": "romance-creek",
   "metadata": {
    "execution": {
     "iopub.execute_input": "2021-07-27T20:42:43.041063Z",
     "iopub.status.busy": "2021-07-27T20:42:43.039929Z",
     "iopub.status.idle": "2021-07-27T20:48:45.446684Z",
     "shell.execute_reply": "2021-07-27T20:48:45.447182Z",
     "shell.execute_reply.started": "2021-07-26T19:36:09.528473Z"
    },
    "papermill": {
     "duration": 362.45691,
     "end_time": "2021-07-27T20:48:45.447388",
     "exception": false,
     "start_time": "2021-07-27T20:42:42.990478",
     "status": "completed"
    },
    "tags": []
   },
   "outputs": [
    {
     "data": {
      "application/vnd.jupyter.widget-view+json": {
       "model_id": "2c7bc56d86c7493caf5e7a9c4ba9cbd4",
       "version_major": 2,
       "version_minor": 0
      },
      "text/plain": [
       "  0%|          | 0/1263 [00:00<?, ?it/s]"
      ]
     },
     "metadata": {},
     "output_type": "display_data"
    }
   ],
   "source": [
    "result_boxes, result_scores, result_labels = merge_boxes_from_models(0.625)"
   ]
  },
  {
   "cell_type": "code",
   "execution_count": 8,
   "id": "sexual-blind",
   "metadata": {
    "execution": {
     "iopub.execute_input": "2021-07-27T20:48:45.487038Z",
     "iopub.status.busy": "2021-07-27T20:48:45.485269Z",
     "iopub.status.idle": "2021-07-27T20:48:45.490638Z",
     "shell.execute_reply": "2021-07-27T20:48:45.490055Z",
     "shell.execute_reply.started": "2021-07-26T19:38:29.849804Z"
    },
    "papermill": {
     "duration": 0.028836,
     "end_time": "2021-07-27T20:48:45.490806",
     "exception": false,
     "start_time": "2021-07-27T20:48:45.461970",
     "status": "completed"
    },
    "tags": []
   },
   "outputs": [],
   "source": [
    "def format_prediction_string(boxes, scores, labels):\n",
    "    pred_strings = []\n",
    "    if len(boxes) > 0 :\n",
    "        for j in zip(labels, scores, boxes):\n",
    "            pred_strings.append(\"opacity {0:.4f} {1} {2} {3} {4}\".format(j[1], j[2][0], j[2][1], j[2][2], j[2][3]))\n",
    "    else:\n",
    "        pred_strings.append(\"none 1 0 0 1 1\")\n",
    "    return \" \".join(pred_strings)\n",
    "\n",
    "\n",
    "def write_submission(test_images_ids, result_boxes, result_scores, result_labels, score_thr):\n",
    "    results = []\n",
    "    for i, image in enumerate(test_images_ids):\n",
    "        image_id   = test_images_ids[i]\n",
    "        cur_boxes  = np.array(result_boxes[i])\n",
    "        cur_scores = np.array(result_scores[i])\n",
    "        cur_labels = np.array(result_labels[i])\n",
    "        score_filter = cur_scores >= score_thr\n",
    "        cur_boxes  = cur_boxes[score_filter]\n",
    "        cur_scores = cur_scores[score_filter]\n",
    "        cur_labels = cur_labels[score_filter]\n",
    "        result = {'image_id': image_id, 'PredictionString': format_prediction_string(cur_boxes, cur_scores, cur_labels)}\n",
    "        results.append(result)\n",
    "    return pd.DataFrame(results, columns=['image_id', 'PredictionString'])"
   ]
  },
  {
   "cell_type": "code",
   "execution_count": 9,
   "id": "single-thompson",
   "metadata": {
    "execution": {
     "iopub.execute_input": "2021-07-27T20:48:45.530890Z",
     "iopub.status.busy": "2021-07-27T20:48:45.528929Z",
     "iopub.status.idle": "2021-07-27T20:48:47.569252Z",
     "shell.execute_reply": "2021-07-27T20:48:47.568704Z",
     "shell.execute_reply.started": "2021-07-26T19:38:29.866647Z"
    },
    "papermill": {
     "duration": 2.064379,
     "end_time": "2021-07-27T20:48:47.569406",
     "exception": false,
     "start_time": "2021-07-27T20:48:45.505027",
     "status": "completed"
    },
    "tags": []
   },
   "outputs": [
    {
     "data": {
      "text/html": [
       "<div>\n",
       "<style scoped>\n",
       "    .dataframe tbody tr th:only-of-type {\n",
       "        vertical-align: middle;\n",
       "    }\n",
       "\n",
       "    .dataframe tbody tr th {\n",
       "        vertical-align: top;\n",
       "    }\n",
       "\n",
       "    .dataframe thead th {\n",
       "        text-align: right;\n",
       "    }\n",
       "</style>\n",
       "<table border=\"1\" class=\"dataframe\">\n",
       "  <thead>\n",
       "    <tr style=\"text-align: right;\">\n",
       "      <th></th>\n",
       "      <th>image_id</th>\n",
       "      <th>PredictionString</th>\n",
       "    </tr>\n",
       "  </thead>\n",
       "  <tbody>\n",
       "    <tr>\n",
       "      <th>0</th>\n",
       "      <td>0026720152f5_image</td>\n",
       "      <td>opacity 0.3150 454 1125 1125 2236 opacity 0.2620 443 1655 1113 2267 opacity 0.2506 1851 1344 2422 2281 opacity 0.2126 2126 1874 2421 2277 opacity 0.1587 1929 1802 2418 2316 opacity 0.1371 1743 1657 2388 2343 opacity 0.1129 2069 1556 2443 2292 opacity 0.0767 423 1407 880 2225 opacity 0.0670 1669 902 2457 2319 opacity 0.0598 649 1392 1164 2176 opacity 0.0588 536 1127 977 2016 opacity 0.0562 1771 1848 2224 2303 opacity 0.0517 474 1784 891 2213 opacity 0.0488 559 1138 904 1502 opacity 0.0481 1669 1436 2223 2280 opacity 0.0441 2190 1924 2377 2159 opacity 0.0437 388 1658 844 2292 opacity 0.0429 ...</td>\n",
       "    </tr>\n",
       "    <tr>\n",
       "      <th>1</th>\n",
       "      <td>00fc8fc35dc1_image</td>\n",
       "      <td>opacity 0.5260 2322 869 3281 2430 opacity 0.4937 613 631 1598 2325 opacity 0.1417 697 723 1490 1725 opacity 0.1370 607 1360 1478 2337 opacity 0.0981 594 861 1243 2165 opacity 0.0871 2686 1054 3290 2357 opacity 0.0589 2433 1300 3163 2332 opacity 0.0575 2045 285 3359 2716 opacity 0.0418 685 794 1168 1567 opacity 0.0345 2257 1403 3356 2655 opacity 0.0321 787 997 1510 2114 opacity 0.0290 400 197 1847 2748 opacity 0.0255 971 961 1668 2306 opacity 0.0251 512 1284 1622 2651 opacity 0.0242 2218 617 3105 2060 opacity 0.0238 744 1638 1339 2218 opacity 0.0219 669 946 1218 1697 opacity 0.0214 2602 872...</td>\n",
       "    </tr>\n",
       "    <tr>\n",
       "      <th>2</th>\n",
       "      <td>01c3512eebc3_image</td>\n",
       "      <td>opacity 0.2304 402 1311 1074 1952 opacity 0.2021 1771 1485 2345 1992 opacity 0.1620 1953 1604 2354 1974 opacity 0.1009 408 733 1101 1910 opacity 0.0945 1703 813 2322 1909 opacity 0.0920 387 1472 884 1945 opacity 0.0901 1894 1123 2368 1955 opacity 0.0851 360 1024 863 1908 opacity 0.0837 1982 1666 2298 1926 opacity 0.0765 1680 1413 2187 1942 opacity 0.0761 2065 1608 2395 2028 opacity 0.0624 666 1176 1143 1831 opacity 0.0568 330 1592 659 1992 opacity 0.0548 307 1432 703 1998 opacity 0.0529 336 1279 804 1982 opacity 0.0487 1659 1120 2134 1899 opacity 0.0479 573 1364 1142 1904 opacity 0.0478 20...</td>\n",
       "    </tr>\n",
       "    <tr>\n",
       "      <th>3</th>\n",
       "      <td>01f948f8e544_image</td>\n",
       "      <td>opacity 0.2525 574 1078 1153 1879 opacity 0.2111 1887 912 2411 1828 opacity 0.0921 708 1435 1188 1896 opacity 0.0772 756 1213 1250 1866 opacity 0.0720 497 1011 962 1886 opacity 0.0701 1782 835 2315 1570 opacity 0.0654 609 1024 1016 1642 opacity 0.0622 588 978 831 1360 opacity 0.0608 2064 916 2423 1617 opacity 0.0587 1711 1051 2283 1917 opacity 0.0570 588 1034 907 1482 opacity 0.0569 1680 591 2463 1907 opacity 0.0554 1964 962 2366 1533 opacity 0.0552 548 642 1293 1933 opacity 0.0496 1843 1312 2423 2005 opacity 0.0477 2050 1034 2484 1966 opacity 0.0449 548 1023 897 1781 opacity 0.0438 1746 1...</td>\n",
       "    </tr>\n",
       "    <tr>\n",
       "      <th>4</th>\n",
       "      <td>022146012034_image</td>\n",
       "      <td>opacity 0.3527 386 1321 1065 1903 opacity 0.2690 1903 1448 2462 2093 opacity 0.0792 1741 1350 2309 2064 opacity 0.0791 602 1299 1155 1874 opacity 0.0785 1806 944 2501 2113 opacity 0.0783 364 817 1088 1912 opacity 0.0709 1984 1596 2342 2046 opacity 0.0659 295 1281 843 1927 opacity 0.0622 536 1371 964 1806 opacity 0.0570 1909 1676 2383 2119 opacity 0.0504 2025 1593 2545 2191 opacity 0.0491 2059 1312 2558 2083 opacity 0.0410 1783 1579 2317 2103 opacity 0.0394 1976 1124 2480 1992 opacity 0.0374 229 1211 1202 2093 opacity 0.0323 2040 1411 2426 1922 opacity 0.0298 1723 1378 2611 2250 opacity 0.0...</td>\n",
       "    </tr>\n",
       "  </tbody>\n",
       "</table>\n",
       "</div>"
      ],
      "text/plain": [
       "             image_id  \\\n",
       "0  0026720152f5_image   \n",
       "1  00fc8fc35dc1_image   \n",
       "2  01c3512eebc3_image   \n",
       "3  01f948f8e544_image   \n",
       "4  022146012034_image   \n",
       "\n",
       "                                                                                                                                                                                                                                                                                                                                                                                                                                                                                                                                                                                                          PredictionString  \n",
       "0  opacity 0.3150 454 1125 1125 2236 opacity 0.2620 443 1655 1113 2267 opacity 0.2506 1851 1344 2422 2281 opacity 0.2126 2126 1874 2421 2277 opacity 0.1587 1929 1802 2418 2316 opacity 0.1371 1743 1657 2388 2343 opacity 0.1129 2069 1556 2443 2292 opacity 0.0767 423 1407 880 2225 opacity 0.0670 1669 902 2457 2319 opacity 0.0598 649 1392 1164 2176 opacity 0.0588 536 1127 977 2016 opacity 0.0562 1771 1848 2224 2303 opacity 0.0517 474 1784 891 2213 opacity 0.0488 559 1138 904 1502 opacity 0.0481 1669 1436 2223 2280 opacity 0.0441 2190 1924 2377 2159 opacity 0.0437 388 1658 844 2292 opacity 0.0429 ...  \n",
       "1  opacity 0.5260 2322 869 3281 2430 opacity 0.4937 613 631 1598 2325 opacity 0.1417 697 723 1490 1725 opacity 0.1370 607 1360 1478 2337 opacity 0.0981 594 861 1243 2165 opacity 0.0871 2686 1054 3290 2357 opacity 0.0589 2433 1300 3163 2332 opacity 0.0575 2045 285 3359 2716 opacity 0.0418 685 794 1168 1567 opacity 0.0345 2257 1403 3356 2655 opacity 0.0321 787 997 1510 2114 opacity 0.0290 400 197 1847 2748 opacity 0.0255 971 961 1668 2306 opacity 0.0251 512 1284 1622 2651 opacity 0.0242 2218 617 3105 2060 opacity 0.0238 744 1638 1339 2218 opacity 0.0219 669 946 1218 1697 opacity 0.0214 2602 872...  \n",
       "2  opacity 0.2304 402 1311 1074 1952 opacity 0.2021 1771 1485 2345 1992 opacity 0.1620 1953 1604 2354 1974 opacity 0.1009 408 733 1101 1910 opacity 0.0945 1703 813 2322 1909 opacity 0.0920 387 1472 884 1945 opacity 0.0901 1894 1123 2368 1955 opacity 0.0851 360 1024 863 1908 opacity 0.0837 1982 1666 2298 1926 opacity 0.0765 1680 1413 2187 1942 opacity 0.0761 2065 1608 2395 2028 opacity 0.0624 666 1176 1143 1831 opacity 0.0568 330 1592 659 1992 opacity 0.0548 307 1432 703 1998 opacity 0.0529 336 1279 804 1982 opacity 0.0487 1659 1120 2134 1899 opacity 0.0479 573 1364 1142 1904 opacity 0.0478 20...  \n",
       "3  opacity 0.2525 574 1078 1153 1879 opacity 0.2111 1887 912 2411 1828 opacity 0.0921 708 1435 1188 1896 opacity 0.0772 756 1213 1250 1866 opacity 0.0720 497 1011 962 1886 opacity 0.0701 1782 835 2315 1570 opacity 0.0654 609 1024 1016 1642 opacity 0.0622 588 978 831 1360 opacity 0.0608 2064 916 2423 1617 opacity 0.0587 1711 1051 2283 1917 opacity 0.0570 588 1034 907 1482 opacity 0.0569 1680 591 2463 1907 opacity 0.0554 1964 962 2366 1533 opacity 0.0552 548 642 1293 1933 opacity 0.0496 1843 1312 2423 2005 opacity 0.0477 2050 1034 2484 1966 opacity 0.0449 548 1023 897 1781 opacity 0.0438 1746 1...  \n",
       "4  opacity 0.3527 386 1321 1065 1903 opacity 0.2690 1903 1448 2462 2093 opacity 0.0792 1741 1350 2309 2064 opacity 0.0791 602 1299 1155 1874 opacity 0.0785 1806 944 2501 2113 opacity 0.0783 364 817 1088 1912 opacity 0.0709 1984 1596 2342 2046 opacity 0.0659 295 1281 843 1927 opacity 0.0622 536 1371 964 1806 opacity 0.0570 1909 1676 2383 2119 opacity 0.0504 2025 1593 2545 2191 opacity 0.0491 2059 1312 2558 2083 opacity 0.0410 1783 1579 2317 2103 opacity 0.0394 1976 1124 2480 1992 opacity 0.0374 229 1211 1202 2093 opacity 0.0323 2040 1411 2426 1922 opacity 0.0298 1723 1378 2611 2250 opacity 0.0...  "
      ]
     },
     "execution_count": 9,
     "metadata": {},
     "output_type": "execute_result"
    }
   ],
   "source": [
    "sub = write_submission(test_filenames, result_boxes, result_scores, result_labels, 0)\n",
    "sub.head()"
   ]
  },
  {
   "cell_type": "code",
   "execution_count": 10,
   "id": "worst-numbers",
   "metadata": {
    "execution": {
     "iopub.execute_input": "2021-07-27T20:48:47.604118Z",
     "iopub.status.busy": "2021-07-27T20:48:47.603327Z",
     "iopub.status.idle": "2021-07-27T20:48:48.160696Z",
     "shell.execute_reply": "2021-07-27T20:48:48.160010Z",
     "shell.execute_reply.started": "2021-07-26T19:38:30.878843Z"
    },
    "papermill": {
     "duration": 0.576999,
     "end_time": "2021-07-27T20:48:48.160914",
     "exception": false,
     "start_time": "2021-07-27T20:48:47.583915",
     "status": "completed"
    },
    "tags": []
   },
   "outputs": [],
   "source": [
    "sub.to_csv('yolov5_effdet5_iou0.6.csv', index=False)"
   ]
  },
  {
   "cell_type": "code",
   "execution_count": null,
   "id": "uniform-update",
   "metadata": {
    "papermill": {
     "duration": 0.015231,
     "end_time": "2021-07-27T20:48:48.190956",
     "exception": false,
     "start_time": "2021-07-27T20:48:48.175725",
     "status": "completed"
    },
    "tags": []
   },
   "outputs": [],
   "source": []
  }
 ],
 "metadata": {
  "kernelspec": {
   "display_name": "Python 3",
   "language": "python",
   "name": "python3"
  },
  "language_info": {
   "codemirror_mode": {
    "name": "ipython",
    "version": 3
   },
   "file_extension": ".py",
   "mimetype": "text/x-python",
   "name": "python",
   "nbconvert_exporter": "python",
   "pygments_lexer": "ipython3",
   "version": "3.7.10"
  },
  "papermill": {
   "default_parameters": {},
   "duration": 408.02001,
   "end_time": "2021-07-27T20:48:50.389546",
   "environment_variables": {},
   "exception": null,
   "input_path": "__notebook__.ipynb",
   "output_path": "__notebook__.ipynb",
   "parameters": {},
   "start_time": "2021-07-27T20:42:02.369536",
   "version": "2.3.3"
  },
  "widgets": {
   "application/vnd.jupyter.widget-state+json": {
    "state": {
     "25e92e47d14f400489ad21e6c7413805": {
      "model_module": "@jupyter-widgets/base",
      "model_module_version": "1.2.0",
      "model_name": "LayoutModel",
      "state": {
       "_model_module": "@jupyter-widgets/base",
       "_model_module_version": "1.2.0",
       "_model_name": "LayoutModel",
       "_view_count": null,
       "_view_module": "@jupyter-widgets/base",
       "_view_module_version": "1.2.0",
       "_view_name": "LayoutView",
       "align_content": null,
       "align_items": null,
       "align_self": null,
       "border": null,
       "bottom": null,
       "display": "inline-flex",
       "flex": null,
       "flex_flow": "row wrap",
       "grid_area": null,
       "grid_auto_columns": null,
       "grid_auto_flow": null,
       "grid_auto_rows": null,
       "grid_column": null,
       "grid_gap": null,
       "grid_row": null,
       "grid_template_areas": null,
       "grid_template_columns": null,
       "grid_template_rows": null,
       "height": null,
       "justify_content": null,
       "justify_items": null,
       "left": null,
       "margin": null,
       "max_height": null,
       "max_width": null,
       "min_height": null,
       "min_width": null,
       "object_fit": null,
       "object_position": null,
       "order": null,
       "overflow": null,
       "overflow_x": null,
       "overflow_y": null,
       "padding": null,
       "right": null,
       "top": null,
       "visibility": null,
       "width": "100%"
      }
     },
     "26bd80e1f7ad444fbb0de3a1d56cef33": {
      "model_module": "@jupyter-widgets/controls",
      "model_module_version": "1.5.0",
      "model_name": "HTMLModel",
      "state": {
       "_dom_classes": [],
       "_model_module": "@jupyter-widgets/controls",
       "_model_module_version": "1.5.0",
       "_model_name": "HTMLModel",
       "_view_count": null,
       "_view_module": "@jupyter-widgets/controls",
       "_view_module_version": "1.5.0",
       "_view_name": "HTMLView",
       "description": "",
       "description_tooltip": null,
       "layout": "IPY_MODEL_65f5bc1310b84aebb5579d013285aac3",
       "placeholder": "​",
       "style": "IPY_MODEL_9a5eb2ba8ac94d2883d3c228fb2f1cce",
       "value": " 1263/1263 [06:02&lt;00:00,  2.74it/s]"
      }
     },
     "2c7bc56d86c7493caf5e7a9c4ba9cbd4": {
      "model_module": "@jupyter-widgets/controls",
      "model_module_version": "1.5.0",
      "model_name": "HBoxModel",
      "state": {
       "_dom_classes": [],
       "_model_module": "@jupyter-widgets/controls",
       "_model_module_version": "1.5.0",
       "_model_name": "HBoxModel",
       "_view_count": null,
       "_view_module": "@jupyter-widgets/controls",
       "_view_module_version": "1.5.0",
       "_view_name": "HBoxView",
       "box_style": "",
       "children": [
        "IPY_MODEL_6e3d4172fd3b49228f967c76934f1efa",
        "IPY_MODEL_f5688196b93540d69f6ed31fff963159",
        "IPY_MODEL_26bd80e1f7ad444fbb0de3a1d56cef33"
       ],
       "layout": "IPY_MODEL_25e92e47d14f400489ad21e6c7413805"
      }
     },
     "3663aed179fb42788883820ff17d9073": {
      "model_module": "@jupyter-widgets/base",
      "model_module_version": "1.2.0",
      "model_name": "LayoutModel",
      "state": {
       "_model_module": "@jupyter-widgets/base",
       "_model_module_version": "1.2.0",
       "_model_name": "LayoutModel",
       "_view_count": null,
       "_view_module": "@jupyter-widgets/base",
       "_view_module_version": "1.2.0",
       "_view_name": "LayoutView",
       "align_content": null,
       "align_items": null,
       "align_self": null,
       "border": null,
       "bottom": null,
       "display": null,
       "flex": "2",
       "flex_flow": null,
       "grid_area": null,
       "grid_auto_columns": null,
       "grid_auto_flow": null,
       "grid_auto_rows": null,
       "grid_column": null,
       "grid_gap": null,
       "grid_row": null,
       "grid_template_areas": null,
       "grid_template_columns": null,
       "grid_template_rows": null,
       "height": null,
       "justify_content": null,
       "justify_items": null,
       "left": null,
       "margin": null,
       "max_height": null,
       "max_width": null,
       "min_height": null,
       "min_width": null,
       "object_fit": null,
       "object_position": null,
       "order": null,
       "overflow": null,
       "overflow_x": null,
       "overflow_y": null,
       "padding": null,
       "right": null,
       "top": null,
       "visibility": null,
       "width": null
      }
     },
     "65f5bc1310b84aebb5579d013285aac3": {
      "model_module": "@jupyter-widgets/base",
      "model_module_version": "1.2.0",
      "model_name": "LayoutModel",
      "state": {
       "_model_module": "@jupyter-widgets/base",
       "_model_module_version": "1.2.0",
       "_model_name": "LayoutModel",
       "_view_count": null,
       "_view_module": "@jupyter-widgets/base",
       "_view_module_version": "1.2.0",
       "_view_name": "LayoutView",
       "align_content": null,
       "align_items": null,
       "align_self": null,
       "border": null,
       "bottom": null,
       "display": null,
       "flex": null,
       "flex_flow": null,
       "grid_area": null,
       "grid_auto_columns": null,
       "grid_auto_flow": null,
       "grid_auto_rows": null,
       "grid_column": null,
       "grid_gap": null,
       "grid_row": null,
       "grid_template_areas": null,
       "grid_template_columns": null,
       "grid_template_rows": null,
       "height": null,
       "justify_content": null,
       "justify_items": null,
       "left": null,
       "margin": null,
       "max_height": null,
       "max_width": null,
       "min_height": null,
       "min_width": null,
       "object_fit": null,
       "object_position": null,
       "order": null,
       "overflow": null,
       "overflow_x": null,
       "overflow_y": null,
       "padding": null,
       "right": null,
       "top": null,
       "visibility": null,
       "width": null
      }
     },
     "6e3d4172fd3b49228f967c76934f1efa": {
      "model_module": "@jupyter-widgets/controls",
      "model_module_version": "1.5.0",
      "model_name": "HTMLModel",
      "state": {
       "_dom_classes": [],
       "_model_module": "@jupyter-widgets/controls",
       "_model_module_version": "1.5.0",
       "_model_name": "HTMLModel",
       "_view_count": null,
       "_view_module": "@jupyter-widgets/controls",
       "_view_module_version": "1.5.0",
       "_view_name": "HTMLView",
       "description": "",
       "description_tooltip": null,
       "layout": "IPY_MODEL_dd9ce48aabda40c2b3aae3ad0323a99d",
       "placeholder": "​",
       "style": "IPY_MODEL_b50b5ad8b95743c38e2502e3b945c392",
       "value": "100%"
      }
     },
     "7e97bc0e331d43fcb3a75371008a7a9b": {
      "model_module": "@jupyter-widgets/controls",
      "model_module_version": "1.5.0",
      "model_name": "ProgressStyleModel",
      "state": {
       "_model_module": "@jupyter-widgets/controls",
       "_model_module_version": "1.5.0",
       "_model_name": "ProgressStyleModel",
       "_view_count": null,
       "_view_module": "@jupyter-widgets/base",
       "_view_module_version": "1.2.0",
       "_view_name": "StyleView",
       "bar_color": null,
       "description_width": ""
      }
     },
     "9a5eb2ba8ac94d2883d3c228fb2f1cce": {
      "model_module": "@jupyter-widgets/controls",
      "model_module_version": "1.5.0",
      "model_name": "DescriptionStyleModel",
      "state": {
       "_model_module": "@jupyter-widgets/controls",
       "_model_module_version": "1.5.0",
       "_model_name": "DescriptionStyleModel",
       "_view_count": null,
       "_view_module": "@jupyter-widgets/base",
       "_view_module_version": "1.2.0",
       "_view_name": "StyleView",
       "description_width": ""
      }
     },
     "b50b5ad8b95743c38e2502e3b945c392": {
      "model_module": "@jupyter-widgets/controls",
      "model_module_version": "1.5.0",
      "model_name": "DescriptionStyleModel",
      "state": {
       "_model_module": "@jupyter-widgets/controls",
       "_model_module_version": "1.5.0",
       "_model_name": "DescriptionStyleModel",
       "_view_count": null,
       "_view_module": "@jupyter-widgets/base",
       "_view_module_version": "1.2.0",
       "_view_name": "StyleView",
       "description_width": ""
      }
     },
     "dd9ce48aabda40c2b3aae3ad0323a99d": {
      "model_module": "@jupyter-widgets/base",
      "model_module_version": "1.2.0",
      "model_name": "LayoutModel",
      "state": {
       "_model_module": "@jupyter-widgets/base",
       "_model_module_version": "1.2.0",
       "_model_name": "LayoutModel",
       "_view_count": null,
       "_view_module": "@jupyter-widgets/base",
       "_view_module_version": "1.2.0",
       "_view_name": "LayoutView",
       "align_content": null,
       "align_items": null,
       "align_self": null,
       "border": null,
       "bottom": null,
       "display": null,
       "flex": null,
       "flex_flow": null,
       "grid_area": null,
       "grid_auto_columns": null,
       "grid_auto_flow": null,
       "grid_auto_rows": null,
       "grid_column": null,
       "grid_gap": null,
       "grid_row": null,
       "grid_template_areas": null,
       "grid_template_columns": null,
       "grid_template_rows": null,
       "height": null,
       "justify_content": null,
       "justify_items": null,
       "left": null,
       "margin": null,
       "max_height": null,
       "max_width": null,
       "min_height": null,
       "min_width": null,
       "object_fit": null,
       "object_position": null,
       "order": null,
       "overflow": null,
       "overflow_x": null,
       "overflow_y": null,
       "padding": null,
       "right": null,
       "top": null,
       "visibility": null,
       "width": null
      }
     },
     "f5688196b93540d69f6ed31fff963159": {
      "model_module": "@jupyter-widgets/controls",
      "model_module_version": "1.5.0",
      "model_name": "FloatProgressModel",
      "state": {
       "_dom_classes": [],
       "_model_module": "@jupyter-widgets/controls",
       "_model_module_version": "1.5.0",
       "_model_name": "FloatProgressModel",
       "_view_count": null,
       "_view_module": "@jupyter-widgets/controls",
       "_view_module_version": "1.5.0",
       "_view_name": "ProgressView",
       "bar_style": "success",
       "description": "",
       "description_tooltip": null,
       "layout": "IPY_MODEL_3663aed179fb42788883820ff17d9073",
       "max": 1263.0,
       "min": 0.0,
       "orientation": "horizontal",
       "style": "IPY_MODEL_7e97bc0e331d43fcb3a75371008a7a9b",
       "value": 1263.0
      }
     }
    },
    "version_major": 2,
    "version_minor": 0
   }
  }
 },
 "nbformat": 4,
 "nbformat_minor": 5
}
