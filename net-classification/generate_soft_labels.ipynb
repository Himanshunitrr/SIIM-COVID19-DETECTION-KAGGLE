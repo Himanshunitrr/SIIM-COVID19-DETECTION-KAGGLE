{
 "cells": [
  {
   "cell_type": "code",
   "execution_count": 2,
   "source": [
    "import os\n",
    "os.environ['CUDA_VISIBLE_DEVICES'] = '0'"
   ],
   "outputs": [],
   "metadata": {}
  },
  {
   "cell_type": "code",
   "execution_count": 3,
   "source": [
    "from fastai.vision.all import *\n",
    "from tqdm.auto import tqdm\n",
    "import gc\n",
    "import torchvision.transforms.functional as TF\n",
    "import random"
   ],
   "outputs": [],
   "metadata": {}
  },
  {
   "cell_type": "code",
   "execution_count": 7,
   "source": [
    "# sys.path.append('../')\n",
    "# import warnings; warnings.filterwarnings('ignore')"
   ],
   "outputs": [],
   "metadata": {}
  },
  {
   "cell_type": "code",
   "execution_count": 5,
   "source": [
    "from src.defaults import get_cfg\n",
    "from src.dataset import LoadDatasets, get_class_names\n",
    "from src.models import build_model\n",
    "from timm.models import load_checkpoint"
   ],
   "outputs": [],
   "metadata": {}
  },
  {
   "cell_type": "code",
   "execution_count": 6,
   "source": [
    "CLASS_NAMES = get_class_names(nc=4)\n",
    "CLASS_NAMES"
   ],
   "outputs": [],
   "metadata": {}
  },
  {
   "cell_type": "code",
   "execution_count": 10,
   "source": [
    "#### YOUR BEST MODELS\n",
    "CHECKPOINTS = [\n",
    "    '/home/shivgup/siim/heng/code/ayush/new_code/code/runs/001cf4cc-8939v2l_noisy_Fine/fold_0/model_best.pth.tar',\n",
    "    '/home/shivgup/siim/heng/code/ayush/new_code/code/runs/001cf4cc-8939v2l_noisy_Fine/fold_1/model_best.pth.tar',\n",
    "    '/home/shivgup/siim/heng/code/ayush/new_code/code/runs/001cf4cc-8939v2l_noisy_Fine/fold_2/model_best.pth.tar',\n",
    "    '/home/shivgup/siim/heng/code/ayush/new_code/code/runs/001cf4cc-8939v2l_noisy_Fine/fold_3/model_best.pth.tar',\n",
    "    '/home/shivgup/siim/heng/code/ayush/new_code/code/runs/001cf4cc-8939v2l_noisy_Fine/fold_4/model_best.pth.tar',\n",
    "    ]\n",
    "\n",
    "\n",
    "#### YOUR TRAINING CONFIGS\n",
    "CONFIGS = [\n",
    "    '/home/shivgup/siim/heng/code/ayush/new_code/code/runs/001cf4cc-8939v2l_noisy_Fine/fold_0/config.yaml',\n",
    "    '/home/shivgup/siim/heng/code/ayush/new_code/code/runs/001cf4cc-8939v2l_noisy_Fine/fold_1/config.yaml',\n",
    "    '/home/shivgup/siim/heng/code/ayush/new_code/code/runs/001cf4cc-8939v2l_noisy_Fine/fold_2/config.yaml',\n",
    "    '/home/shivgup/siim/heng/code/ayush/new_code/code/runs/001cf4cc-8939v2l_noisy_Fine/fold_3/config.yaml',\n",
    "    '/home/shivgup/siim/heng/code/ayush/new_code/code/runs/001cf4cc-8939v2l_noisy_Fine/fold_4/config.yaml',\n",
    "    ]\n",
    "\n",
    "\n",
    "MAIN_CFG = get_cfg()\n",
    "MAIN_CFG.merge_from_file(CONFIGS[0])\n",
    "DF = pd.read_csv(MAIN_CFG.PATH_CSV)\n",
    "DF_f = pd.read_csv(MAIN_CFG.PATH_CSV)\n",
    "DF_f_r = pd.read_csv(MAIN_CFG.PATH_CSV)\n",
    "DF.head()\n"
   ],
   "outputs": [],
   "metadata": {}
  },
  {
   "cell_type": "code",
   "execution_count": 11,
   "source": [
    "models = []\n",
    "dls = []\n",
    "\n",
    "for i, c in enumerate(CHECKPOINTS):\n",
    "    MAIN_CFG = get_cfg()\n",
    "    MAIN_CFG.merge_from_file(CONFIGS[i])\n",
    "    datamodule = LoadDatasets(MAIN_CFG, fold=i)\n",
    "    datamodule.setup()\n",
    "    dls.append(datamodule.val_dataloader())\n",
    "    model = build_model(MAIN_CFG)\n",
    "    load_checkpoint(model, c, strict=True)\n",
    "    models.append(model)"
   ],
   "outputs": [],
   "metadata": {}
  },
  {
   "cell_type": "code",
   "execution_count": 12,
   "source": [
    "@torch.no_grad()\n",
    "def get_preds(model, test_loader):\n",
    "    model.cuda()\n",
    "    model.eval()\n",
    "    \n",
    "    batch_probs = []\n",
    "    batch_ids   = []\n",
    "    \n",
    "    for i, (batch) in enumerate(tqdm(test_loader, dynamic_ncols=True)):\n",
    "        images = batch['image']\n",
    "        image_id = batch['image_id']\n",
    "        images = images.cuda()\n",
    "        y_preds= model(images)['output']\n",
    "        \n",
    "        batch_probs.append(F.softmax(y_preds))\n",
    "        batch_ids.append(image_id)\n",
    "    \n",
    "    del model\n",
    "    torch.cuda.empty_cache()\n",
    "    gc.collect()\n",
    "    return torch.cat(batch_probs).data.cpu().numpy(), np.hstack(batch_ids)"
   ],
   "outputs": [],
   "metadata": {}
  },
  {
   "cell_type": "code",
   "execution_count": 13,
   "source": [
    "for i in tqdm(range(5), dynamic_ncols=True):\n",
    "    probs, ids = get_preds(models[i], dls[i])\n",
    "    for (image_id, pred) in zip(ids, probs):\n",
    "        index = DF.loc[DF.id == image_id].index\n",
    "        DF.loc[index, CLASS_NAMES] = pred\n",
    "\n",
    "display_df(DF.head())"
   ],
   "outputs": [],
   "metadata": {}
  },
  {
   "cell_type": "code",
   "execution_count": null,
   "source": [
    "DF.to_csv('soft.csv', index=False)"
   ],
   "outputs": [],
   "metadata": {}
  },
  {
   "cell_type": "code",
   "execution_count": 1,
   "source": [
    "# from torchmetrics import AveragePrecision\n",
    "\n",
    "# #DF = DF.sort_values(by='id').reset_index(drop=True)\n",
    "# oof_labels = DF[CLASS_NAMES].values\n",
    "# dframe = pd.read_csv(MAIN_CFG.PATH_CSV)\n",
    "# #dframe = dframe[dframe['kfold']!=-1].reset_index(drop=True)\n",
    "# #dframe = dframe.sort_values(by='id').reset_index(drop=True)\n",
    "# ori_labels = dframe[CLASS_NAMES].values\n",
    "\n",
    "# oof_labels = torch.as_tensor(oof_labels)\n",
    "\n",
    "# ori_labels = torch.as_tensor(ori_labels)\n",
    "# ori_labels = torch.argmax(ori_labels, dim=1).long()\n",
    "\n",
    "# mm = AveragePrecision(num_classes=MAIN_CFG.INPUT.NUM_CLASSES)\n",
    "# pc = mm(oof_labels, ori_labels)\n",
    "# av = torch.mean(torch.stack(pc))*2/3\n",
    "\n",
    "# print('Print Per Class mAP: ', pc)\n",
    "# print('Average mAP', av)"
   ],
   "outputs": [],
   "metadata": {}
  },
  {
   "cell_type": "code",
   "execution_count": null,
   "source": [],
   "outputs": [],
   "metadata": {}
  }
 ],
 "metadata": {
  "interpreter": {
   "hash": "767d51c1340bd893661ea55ea3124f6de3c7a262a8b4abca0554b478b1e2ff90"
  },
  "kernelspec": {
   "name": "python3",
   "display_name": "Python 2.7.16 64-bit"
  },
  "language_info": {
   "mimetype": "text/x-python",
   "nbconvert_exporter": "python",
   "name": "python",
   "pygments_lexer": "ipython2",
   "version": "2.7.16",
   "file_extension": ".py",
   "codemirror_mode": {
    "version": 2,
    "name": "ipython"
   }
  }
 },
 "nbformat": 4,
 "nbformat_minor": 5
}